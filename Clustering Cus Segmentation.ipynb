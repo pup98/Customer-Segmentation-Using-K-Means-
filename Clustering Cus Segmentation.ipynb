{
 "cells": [
  {
   "cell_type": "markdown",
   "id": "a1afecbc",
   "metadata": {},
   "source": [
    "<h1 align=\"center\"><font size=\"15\">Customer Segmentation</font></h1>"
   ]
  },
  {
   "cell_type": "markdown",
   "id": "53cd9952",
   "metadata": {},
   "source": [
    "Imagine that you have a customer dataset, and you need to apply customer segmentation on this historical data.\n",
    "Customer segmentation is the practice of partitioning a customer base into groups of individuals that have similar characteristics. It is a significant strategy as a business can target these specific groups of customers and effectively allocate marketing resources. For example, one group might contain customers who are high-profit and low-risk, that is, more likely to purchase products, or subscribe for a service. A business task is to retaining those customers. Another group might include customers from non-profit organizations. And so on."
   ]
  },
  {
   "cell_type": "markdown",
   "id": "fa216916",
   "metadata": {},
   "source": [
    "# Import the libraries"
   ]
  },
  {
   "cell_type": "code",
   "execution_count": 1,
   "id": "b0edb06b",
   "metadata": {},
   "outputs": [],
   "source": [
    "import numpy as np\n",
    "import pandas as pd\n",
    "import matplotlib.pyplot as plt\n",
    "%matplotlib inline\n",
    "from sklearn.cluster import KMeans"
   ]
  },
  {
   "cell_type": "markdown",
   "id": "04e2f593",
   "metadata": {},
   "source": [
    "# Explore the data"
   ]
  },
  {
   "cell_type": "code",
   "execution_count": 2,
   "id": "bae825f0",
   "metadata": {},
   "outputs": [
    {
     "data": {
      "text/html": [
       "<div>\n",
       "<style scoped>\n",
       "    .dataframe tbody tr th:only-of-type {\n",
       "        vertical-align: middle;\n",
       "    }\n",
       "\n",
       "    .dataframe tbody tr th {\n",
       "        vertical-align: top;\n",
       "    }\n",
       "\n",
       "    .dataframe thead th {\n",
       "        text-align: right;\n",
       "    }\n",
       "</style>\n",
       "<table border=\"1\" class=\"dataframe\">\n",
       "  <thead>\n",
       "    <tr style=\"text-align: right;\">\n",
       "      <th></th>\n",
       "      <th>Customer Id</th>\n",
       "      <th>Age</th>\n",
       "      <th>Edu</th>\n",
       "      <th>Years Employed</th>\n",
       "      <th>Income</th>\n",
       "      <th>Card Debt</th>\n",
       "      <th>Other Debt</th>\n",
       "      <th>Defaulted</th>\n",
       "      <th>Address</th>\n",
       "      <th>DebtIncomeRatio</th>\n",
       "    </tr>\n",
       "  </thead>\n",
       "  <tbody>\n",
       "    <tr>\n",
       "      <th>0</th>\n",
       "      <td>1</td>\n",
       "      <td>41</td>\n",
       "      <td>2</td>\n",
       "      <td>6</td>\n",
       "      <td>19</td>\n",
       "      <td>0.124</td>\n",
       "      <td>1.073</td>\n",
       "      <td>0.0</td>\n",
       "      <td>NBA001</td>\n",
       "      <td>6.3</td>\n",
       "    </tr>\n",
       "    <tr>\n",
       "      <th>1</th>\n",
       "      <td>2</td>\n",
       "      <td>47</td>\n",
       "      <td>1</td>\n",
       "      <td>26</td>\n",
       "      <td>100</td>\n",
       "      <td>4.582</td>\n",
       "      <td>8.218</td>\n",
       "      <td>0.0</td>\n",
       "      <td>NBA021</td>\n",
       "      <td>12.8</td>\n",
       "    </tr>\n",
       "    <tr>\n",
       "      <th>2</th>\n",
       "      <td>3</td>\n",
       "      <td>33</td>\n",
       "      <td>2</td>\n",
       "      <td>10</td>\n",
       "      <td>57</td>\n",
       "      <td>6.111</td>\n",
       "      <td>5.802</td>\n",
       "      <td>1.0</td>\n",
       "      <td>NBA013</td>\n",
       "      <td>20.9</td>\n",
       "    </tr>\n",
       "    <tr>\n",
       "      <th>3</th>\n",
       "      <td>4</td>\n",
       "      <td>29</td>\n",
       "      <td>2</td>\n",
       "      <td>4</td>\n",
       "      <td>19</td>\n",
       "      <td>0.681</td>\n",
       "      <td>0.516</td>\n",
       "      <td>0.0</td>\n",
       "      <td>NBA009</td>\n",
       "      <td>6.3</td>\n",
       "    </tr>\n",
       "    <tr>\n",
       "      <th>4</th>\n",
       "      <td>5</td>\n",
       "      <td>47</td>\n",
       "      <td>1</td>\n",
       "      <td>31</td>\n",
       "      <td>253</td>\n",
       "      <td>9.308</td>\n",
       "      <td>8.908</td>\n",
       "      <td>0.0</td>\n",
       "      <td>NBA008</td>\n",
       "      <td>7.2</td>\n",
       "    </tr>\n",
       "  </tbody>\n",
       "</table>\n",
       "</div>"
      ],
      "text/plain": [
       "   Customer Id  Age  Edu  Years Employed  Income  Card Debt  Other Debt  \\\n",
       "0            1   41    2               6      19      0.124       1.073   \n",
       "1            2   47    1              26     100      4.582       8.218   \n",
       "2            3   33    2              10      57      6.111       5.802   \n",
       "3            4   29    2               4      19      0.681       0.516   \n",
       "4            5   47    1              31     253      9.308       8.908   \n",
       "\n",
       "   Defaulted Address  DebtIncomeRatio  \n",
       "0        0.0  NBA001              6.3  \n",
       "1        0.0  NBA021             12.8  \n",
       "2        1.0  NBA013             20.9  \n",
       "3        0.0  NBA009              6.3  \n",
       "4        0.0  NBA008              7.2  "
      ]
     },
     "execution_count": 2,
     "metadata": {},
     "output_type": "execute_result"
    }
   ],
   "source": [
    "cust_df = pd.read_csv('Cust_Segmentation.csv')\n",
    "cust_df.head()"
   ]
  },
  {
   "cell_type": "code",
   "execution_count": 3,
   "id": "278107c2",
   "metadata": {},
   "outputs": [
    {
     "data": {
      "text/plain": [
       "Customer Id        850\n",
       "Age                850\n",
       "Edu                850\n",
       "Years Employed     850\n",
       "Income             850\n",
       "Card Debt          850\n",
       "Other Debt         850\n",
       "Defaulted          700\n",
       "Address            850\n",
       "DebtIncomeRatio    850\n",
       "dtype: int64"
      ]
     },
     "execution_count": 3,
     "metadata": {},
     "output_type": "execute_result"
    }
   ],
   "source": [
    "cust_df.count()"
   ]
  },
  {
   "cell_type": "code",
   "execution_count": 4,
   "id": "85b38282",
   "metadata": {},
   "outputs": [
    {
     "data": {
      "text/plain": [
       "(850, 10)"
      ]
     },
     "execution_count": 4,
     "metadata": {},
     "output_type": "execute_result"
    }
   ],
   "source": [
    "cust_df.shape"
   ]
  },
  {
   "cell_type": "code",
   "execution_count": 5,
   "id": "69475ee2",
   "metadata": {},
   "outputs": [
    {
     "data": {
      "text/html": [
       "<div>\n",
       "<style scoped>\n",
       "    .dataframe tbody tr th:only-of-type {\n",
       "        vertical-align: middle;\n",
       "    }\n",
       "\n",
       "    .dataframe tbody tr th {\n",
       "        vertical-align: top;\n",
       "    }\n",
       "\n",
       "    .dataframe thead th {\n",
       "        text-align: right;\n",
       "    }\n",
       "</style>\n",
       "<table border=\"1\" class=\"dataframe\">\n",
       "  <thead>\n",
       "    <tr style=\"text-align: right;\">\n",
       "      <th></th>\n",
       "      <th>Customer Id</th>\n",
       "      <th>Age</th>\n",
       "      <th>Edu</th>\n",
       "      <th>Years Employed</th>\n",
       "      <th>Income</th>\n",
       "      <th>Card Debt</th>\n",
       "      <th>Other Debt</th>\n",
       "      <th>Defaulted</th>\n",
       "      <th>DebtIncomeRatio</th>\n",
       "    </tr>\n",
       "  </thead>\n",
       "  <tbody>\n",
       "    <tr>\n",
       "      <th>count</th>\n",
       "      <td>850.00000</td>\n",
       "      <td>850.000000</td>\n",
       "      <td>850.000000</td>\n",
       "      <td>850.000000</td>\n",
       "      <td>850.000000</td>\n",
       "      <td>850.000000</td>\n",
       "      <td>850.000000</td>\n",
       "      <td>700.000000</td>\n",
       "      <td>850.000000</td>\n",
       "    </tr>\n",
       "    <tr>\n",
       "      <th>mean</th>\n",
       "      <td>425.50000</td>\n",
       "      <td>35.029412</td>\n",
       "      <td>1.710588</td>\n",
       "      <td>8.565882</td>\n",
       "      <td>46.675294</td>\n",
       "      <td>1.576820</td>\n",
       "      <td>3.078773</td>\n",
       "      <td>0.261429</td>\n",
       "      <td>10.171647</td>\n",
       "    </tr>\n",
       "    <tr>\n",
       "      <th>std</th>\n",
       "      <td>245.51816</td>\n",
       "      <td>8.041432</td>\n",
       "      <td>0.927784</td>\n",
       "      <td>6.777884</td>\n",
       "      <td>38.543054</td>\n",
       "      <td>2.125843</td>\n",
       "      <td>3.398799</td>\n",
       "      <td>0.439727</td>\n",
       "      <td>6.719441</td>\n",
       "    </tr>\n",
       "    <tr>\n",
       "      <th>min</th>\n",
       "      <td>1.00000</td>\n",
       "      <td>20.000000</td>\n",
       "      <td>1.000000</td>\n",
       "      <td>0.000000</td>\n",
       "      <td>13.000000</td>\n",
       "      <td>0.012000</td>\n",
       "      <td>0.046000</td>\n",
       "      <td>0.000000</td>\n",
       "      <td>0.100000</td>\n",
       "    </tr>\n",
       "    <tr>\n",
       "      <th>25%</th>\n",
       "      <td>213.25000</td>\n",
       "      <td>29.000000</td>\n",
       "      <td>1.000000</td>\n",
       "      <td>3.000000</td>\n",
       "      <td>24.000000</td>\n",
       "      <td>0.382500</td>\n",
       "      <td>1.045750</td>\n",
       "      <td>0.000000</td>\n",
       "      <td>5.100000</td>\n",
       "    </tr>\n",
       "    <tr>\n",
       "      <th>50%</th>\n",
       "      <td>425.50000</td>\n",
       "      <td>34.000000</td>\n",
       "      <td>1.000000</td>\n",
       "      <td>7.000000</td>\n",
       "      <td>35.000000</td>\n",
       "      <td>0.885000</td>\n",
       "      <td>2.003000</td>\n",
       "      <td>0.000000</td>\n",
       "      <td>8.700000</td>\n",
       "    </tr>\n",
       "    <tr>\n",
       "      <th>75%</th>\n",
       "      <td>637.75000</td>\n",
       "      <td>41.000000</td>\n",
       "      <td>2.000000</td>\n",
       "      <td>13.000000</td>\n",
       "      <td>55.750000</td>\n",
       "      <td>1.898500</td>\n",
       "      <td>3.903250</td>\n",
       "      <td>1.000000</td>\n",
       "      <td>13.800000</td>\n",
       "    </tr>\n",
       "    <tr>\n",
       "      <th>max</th>\n",
       "      <td>850.00000</td>\n",
       "      <td>56.000000</td>\n",
       "      <td>5.000000</td>\n",
       "      <td>33.000000</td>\n",
       "      <td>446.000000</td>\n",
       "      <td>20.561000</td>\n",
       "      <td>35.197000</td>\n",
       "      <td>1.000000</td>\n",
       "      <td>41.300000</td>\n",
       "    </tr>\n",
       "  </tbody>\n",
       "</table>\n",
       "</div>"
      ],
      "text/plain": [
       "       Customer Id         Age         Edu  Years Employed      Income  \\\n",
       "count    850.00000  850.000000  850.000000      850.000000  850.000000   \n",
       "mean     425.50000   35.029412    1.710588        8.565882   46.675294   \n",
       "std      245.51816    8.041432    0.927784        6.777884   38.543054   \n",
       "min        1.00000   20.000000    1.000000        0.000000   13.000000   \n",
       "25%      213.25000   29.000000    1.000000        3.000000   24.000000   \n",
       "50%      425.50000   34.000000    1.000000        7.000000   35.000000   \n",
       "75%      637.75000   41.000000    2.000000       13.000000   55.750000   \n",
       "max      850.00000   56.000000    5.000000       33.000000  446.000000   \n",
       "\n",
       "        Card Debt  Other Debt   Defaulted  DebtIncomeRatio  \n",
       "count  850.000000  850.000000  700.000000       850.000000  \n",
       "mean     1.576820    3.078773    0.261429        10.171647  \n",
       "std      2.125843    3.398799    0.439727         6.719441  \n",
       "min      0.012000    0.046000    0.000000         0.100000  \n",
       "25%      0.382500    1.045750    0.000000         5.100000  \n",
       "50%      0.885000    2.003000    0.000000         8.700000  \n",
       "75%      1.898500    3.903250    1.000000        13.800000  \n",
       "max     20.561000   35.197000    1.000000        41.300000  "
      ]
     },
     "execution_count": 5,
     "metadata": {},
     "output_type": "execute_result"
    }
   ],
   "source": [
    "cust_df.describe()"
   ]
  },
  {
   "cell_type": "code",
   "execution_count": 6,
   "id": "4f2fb5fc",
   "metadata": {
    "scrolled": false
   },
   "outputs": [
    {
     "name": "stdout",
     "output_type": "stream",
     "text": [
      "<class 'pandas.core.frame.DataFrame'>\n",
      "RangeIndex: 850 entries, 0 to 849\n",
      "Data columns (total 10 columns):\n",
      " #   Column           Non-Null Count  Dtype  \n",
      "---  ------           --------------  -----  \n",
      " 0   Customer Id      850 non-null    int64  \n",
      " 1   Age              850 non-null    int64  \n",
      " 2   Edu              850 non-null    int64  \n",
      " 3   Years Employed   850 non-null    int64  \n",
      " 4   Income           850 non-null    int64  \n",
      " 5   Card Debt        850 non-null    float64\n",
      " 6   Other Debt       850 non-null    float64\n",
      " 7   Defaulted        700 non-null    float64\n",
      " 8   Address          850 non-null    object \n",
      " 9   DebtIncomeRatio  850 non-null    float64\n",
      "dtypes: float64(4), int64(5), object(1)\n",
      "memory usage: 66.5+ KB\n"
     ]
    }
   ],
   "source": [
    "cust_df.info()"
   ]
  },
  {
   "cell_type": "code",
   "execution_count": 7,
   "id": "97a170da",
   "metadata": {
    "scrolled": true
   },
   "outputs": [
    {
     "data": {
      "text/plain": [
       "Customer Id          0\n",
       "Age                  0\n",
       "Edu                  0\n",
       "Years Employed       0\n",
       "Income               0\n",
       "Card Debt            0\n",
       "Other Debt           0\n",
       "Defaulted          150\n",
       "Address              0\n",
       "DebtIncomeRatio      0\n",
       "dtype: int64"
      ]
     },
     "execution_count": 7,
     "metadata": {},
     "output_type": "execute_result"
    }
   ],
   "source": [
    "cust_df.isnull().sum()"
   ]
  },
  {
   "cell_type": "code",
   "execution_count": 8,
   "id": "34aac168",
   "metadata": {},
   "outputs": [
    {
     "data": {
      "text/html": [
       "<div>\n",
       "<style scoped>\n",
       "    .dataframe tbody tr th:only-of-type {\n",
       "        vertical-align: middle;\n",
       "    }\n",
       "\n",
       "    .dataframe tbody tr th {\n",
       "        vertical-align: top;\n",
       "    }\n",
       "\n",
       "    .dataframe thead th {\n",
       "        text-align: right;\n",
       "    }\n",
       "</style>\n",
       "<table border=\"1\" class=\"dataframe\">\n",
       "  <thead>\n",
       "    <tr style=\"text-align: right;\">\n",
       "      <th></th>\n",
       "      <th>Customer Id</th>\n",
       "      <th>Age</th>\n",
       "      <th>Education</th>\n",
       "      <th>Years Employed</th>\n",
       "      <th>Income</th>\n",
       "      <th>Card Debt</th>\n",
       "      <th>Other Debt</th>\n",
       "      <th>Defaulted</th>\n",
       "      <th>Address</th>\n",
       "      <th>DebtIncomeRatio</th>\n",
       "    </tr>\n",
       "  </thead>\n",
       "  <tbody>\n",
       "    <tr>\n",
       "      <th>0</th>\n",
       "      <td>1</td>\n",
       "      <td>41</td>\n",
       "      <td>2</td>\n",
       "      <td>6</td>\n",
       "      <td>19</td>\n",
       "      <td>0.124</td>\n",
       "      <td>1.073</td>\n",
       "      <td>0.0</td>\n",
       "      <td>NBA001</td>\n",
       "      <td>6.3</td>\n",
       "    </tr>\n",
       "    <tr>\n",
       "      <th>1</th>\n",
       "      <td>2</td>\n",
       "      <td>47</td>\n",
       "      <td>1</td>\n",
       "      <td>26</td>\n",
       "      <td>100</td>\n",
       "      <td>4.582</td>\n",
       "      <td>8.218</td>\n",
       "      <td>0.0</td>\n",
       "      <td>NBA021</td>\n",
       "      <td>12.8</td>\n",
       "    </tr>\n",
       "    <tr>\n",
       "      <th>2</th>\n",
       "      <td>3</td>\n",
       "      <td>33</td>\n",
       "      <td>2</td>\n",
       "      <td>10</td>\n",
       "      <td>57</td>\n",
       "      <td>6.111</td>\n",
       "      <td>5.802</td>\n",
       "      <td>1.0</td>\n",
       "      <td>NBA013</td>\n",
       "      <td>20.9</td>\n",
       "    </tr>\n",
       "    <tr>\n",
       "      <th>3</th>\n",
       "      <td>4</td>\n",
       "      <td>29</td>\n",
       "      <td>2</td>\n",
       "      <td>4</td>\n",
       "      <td>19</td>\n",
       "      <td>0.681</td>\n",
       "      <td>0.516</td>\n",
       "      <td>0.0</td>\n",
       "      <td>NBA009</td>\n",
       "      <td>6.3</td>\n",
       "    </tr>\n",
       "    <tr>\n",
       "      <th>4</th>\n",
       "      <td>5</td>\n",
       "      <td>47</td>\n",
       "      <td>1</td>\n",
       "      <td>31</td>\n",
       "      <td>253</td>\n",
       "      <td>9.308</td>\n",
       "      <td>8.908</td>\n",
       "      <td>0.0</td>\n",
       "      <td>NBA008</td>\n",
       "      <td>7.2</td>\n",
       "    </tr>\n",
       "  </tbody>\n",
       "</table>\n",
       "</div>"
      ],
      "text/plain": [
       "   Customer Id  Age  Education  Years Employed  Income  Card Debt  Other Debt  \\\n",
       "0            1   41          2               6      19      0.124       1.073   \n",
       "1            2   47          1              26     100      4.582       8.218   \n",
       "2            3   33          2              10      57      6.111       5.802   \n",
       "3            4   29          2               4      19      0.681       0.516   \n",
       "4            5   47          1              31     253      9.308       8.908   \n",
       "\n",
       "   Defaulted Address  DebtIncomeRatio  \n",
       "0        0.0  NBA001              6.3  \n",
       "1        0.0  NBA021             12.8  \n",
       "2        1.0  NBA013             20.9  \n",
       "3        0.0  NBA009              6.3  \n",
       "4        0.0  NBA008              7.2  "
      ]
     },
     "execution_count": 8,
     "metadata": {},
     "output_type": "execute_result"
    }
   ],
   "source": [
    "# renaming some of the columns\n",
    "cust_df.rename(columns = {'Edu': 'Education'}, inplace = True)\n",
    "cust_df.head()"
   ]
  },
  {
   "cell_type": "code",
   "execution_count": 9,
   "id": "e989b366",
   "metadata": {},
   "outputs": [
    {
     "data": {
      "text/html": [
       "<div>\n",
       "<style scoped>\n",
       "    .dataframe tbody tr th:only-of-type {\n",
       "        vertical-align: middle;\n",
       "    }\n",
       "\n",
       "    .dataframe tbody tr th {\n",
       "        vertical-align: top;\n",
       "    }\n",
       "\n",
       "    .dataframe thead th {\n",
       "        text-align: right;\n",
       "    }\n",
       "</style>\n",
       "<table border=\"1\" class=\"dataframe\">\n",
       "  <thead>\n",
       "    <tr style=\"text-align: right;\">\n",
       "      <th></th>\n",
       "      <th>Age</th>\n",
       "      <th>Income</th>\n",
       "      <th>Card Debt</th>\n",
       "      <th>Other Debt</th>\n",
       "    </tr>\n",
       "  </thead>\n",
       "  <tbody>\n",
       "    <tr>\n",
       "      <th>0</th>\n",
       "      <td>41</td>\n",
       "      <td>19</td>\n",
       "      <td>0.124</td>\n",
       "      <td>1.073</td>\n",
       "    </tr>\n",
       "    <tr>\n",
       "      <th>1</th>\n",
       "      <td>47</td>\n",
       "      <td>100</td>\n",
       "      <td>4.582</td>\n",
       "      <td>8.218</td>\n",
       "    </tr>\n",
       "    <tr>\n",
       "      <th>2</th>\n",
       "      <td>33</td>\n",
       "      <td>57</td>\n",
       "      <td>6.111</td>\n",
       "      <td>5.802</td>\n",
       "    </tr>\n",
       "    <tr>\n",
       "      <th>3</th>\n",
       "      <td>29</td>\n",
       "      <td>19</td>\n",
       "      <td>0.681</td>\n",
       "      <td>0.516</td>\n",
       "    </tr>\n",
       "    <tr>\n",
       "      <th>4</th>\n",
       "      <td>47</td>\n",
       "      <td>253</td>\n",
       "      <td>9.308</td>\n",
       "      <td>8.908</td>\n",
       "    </tr>\n",
       "  </tbody>\n",
       "</table>\n",
       "</div>"
      ],
      "text/plain": [
       "   Age  Income  Card Debt  Other Debt\n",
       "0   41      19      0.124       1.073\n",
       "1   47     100      4.582       8.218\n",
       "2   33      57      6.111       5.802\n",
       "3   29      19      0.681       0.516\n",
       "4   47     253      9.308       8.908"
      ]
     },
     "execution_count": 9,
     "metadata": {},
     "output_type": "execute_result"
    }
   ],
   "source": [
    "# we will drop the adress variable as it is categorical variable bcz clustering algo needs continous numerical variable\n",
    "df = cust_df.drop(['Defaulted', 'DebtIncomeRatio', 'Customer Id', 'Education', 'Years Employed', 'Address'],  axis  = 1)\n",
    "\n",
    "df.head()"
   ]
  },
  {
   "cell_type": "code",
   "execution_count": 10,
   "id": "695a012f",
   "metadata": {},
   "outputs": [
    {
     "data": {
      "text/plain": [
       "array([[ 41.   ,  19.   ,   0.124,   1.073],\n",
       "       [ 47.   , 100.   ,   4.582,   8.218],\n",
       "       [ 33.   ,  57.   ,   6.111,   5.802],\n",
       "       ...,\n",
       "       [ 25.   ,  18.   ,   2.802,   3.21 ],\n",
       "       [ 32.   ,  28.   ,   0.116,   0.696],\n",
       "       [ 52.   ,  64.   ,   1.866,   3.638]])"
      ]
     },
     "execution_count": 10,
     "metadata": {},
     "output_type": "execute_result"
    }
   ],
   "source": [
    "# .values is a function in pandas to convert pandas dataframe into a numpy array \n",
    "# this is needed as clustering algorithm work on numerical matrices ie arrays\n",
    "df.values #[:, 1:] [ rows, columns] [inclusive, exclusive means have to increase an index]"
   ]
  },
  {
   "cell_type": "code",
   "execution_count": 11,
   "id": "757c550f",
   "metadata": {
    "scrolled": true
   },
   "outputs": [
    {
     "data": {
      "text/plain": [
       "array([41., 47., 33., 29., 47., 40., 38., 42., 26., 47., 44., 34., 24.,\n",
       "       46., 28., 24., 29., 43., 44., 36., 29., 36., 28., 45., 37., 43.,\n",
       "       24., 37., 38., 34., 40., 42., 23., 40., 28., 33., 35., 37., 22.,\n",
       "       39., 20., 48., 28., 37., 48., 45., 22., 30., 28., 29., 47., 36.,\n",
       "       24., 56., 29., 34., 32., 27., 40., 50., 39., 34., 36., 44., 24.,\n",
       "       31., 34., 26., 38., 24., 30., 40., 30., 25., 29., 33., 43., 35.,\n",
       "       41., 46., 33., 30., 40., 38., 49., 26., 22., 29., 28., 23., 37.,\n",
       "       35., 31., 29., 34., 47., 37., 38., 32., 22., 30., 38., 36., 44.,\n",
       "       27., 47., 41., 25., 33., 42., 36., 25., 30., 24., 32., 39., 30.,\n",
       "       33., 32., 33., 29., 28., 33., 39., 32., 46., 32., 28., 26., 27.,\n",
       "       35., 35., 31., 32., 29., 35., 48., 24., 44., 40., 36., 23., 26.,\n",
       "       30., 34., 28., 37., 46., 24., 25., 33., 46., 38., 47., 34., 35.,\n",
       "       39., 44., 28., 31., 24., 36., 35., 31., 28., 36., 31., 30., 26.,\n",
       "       48., 39., 31., 31., 27., 31., 53., 40., 26., 29., 52., 39., 33.,\n",
       "       24., 47., 41., 26., 48., 37., 37., 46., 30., 47., 37., 37., 40.,\n",
       "       35., 21., 52., 47., 41., 47., 38., 22., 39., 45., 51., 33., 43.,\n",
       "       40., 27., 31., 34., 37., 44., 42., 25., 39., 26., 36., 48., 21.,\n",
       "       40., 31., 23., 31., 31., 50., 29., 37., 46., 39., 34., 27., 23.,\n",
       "       41., 29., 44., 24., 32., 23., 31., 36., 25., 26., 43., 47., 43.,\n",
       "       37., 35., 28., 28., 26., 39., 34., 51., 28., 39., 23., 23., 21.,\n",
       "       40., 26., 32., 29., 43., 55., 30., 38., 40., 43., 35., 24., 35.,\n",
       "       39., 41., 28., 24., 40., 29., 26., 27., 50., 41., 26., 48., 35.,\n",
       "       35., 23., 39., 38., 30., 44., 33., 34., 27., 30., 27., 29., 25.,\n",
       "       41., 42., 38., 23., 33., 31., 37., 40., 31., 35., 38., 30., 30.,\n",
       "       44., 29., 39., 26., 36., 31., 38., 38., 41., 41., 45., 24., 22.,\n",
       "       34., 25., 29., 35., 39., 34., 44., 23., 46., 41., 52., 23., 48.,\n",
       "       35., 53., 39., 37., 34., 49., 39., 42., 28., 27., 24., 34., 47.,\n",
       "       26., 35., 31., 29., 44., 40., 36., 32., 21., 42., 37., 24., 24.,\n",
       "       46., 28., 41., 46., 51., 36., 25., 27., 43., 53., 32., 36., 29.,\n",
       "       35., 32., 25., 42., 25., 20., 50., 46., 33., 43., 30., 34., 37.,\n",
       "       38., 32., 39., 31., 25., 31., 29., 45., 39., 34., 24., 30., 30.,\n",
       "       27., 31., 47., 47., 45., 31., 45., 29., 36., 29., 39., 22., 46.,\n",
       "       38., 37., 42., 36., 34., 38., 27., 35., 48., 45., 43., 54., 35.,\n",
       "       28., 39., 43., 32., 22., 41., 34., 34., 31., 55., 40., 41., 43.,\n",
       "       36., 51., 40., 27., 36., 38., 47., 33., 41., 33., 21., 34., 51.,\n",
       "       36., 23., 34., 29., 46., 45., 41., 28., 37., 25., 48., 37., 32.,\n",
       "       31., 48., 45., 41., 39., 41., 50., 22., 43., 33., 29., 24., 27.,\n",
       "       37., 34., 22., 41., 32., 35., 41., 21., 23., 25., 40., 38., 49.,\n",
       "       40., 29., 25., 33., 37., 24., 29., 28., 37., 47., 31., 28., 39.,\n",
       "       33., 41., 29., 31., 28., 35., 54., 39., 46., 23., 28., 24., 41.,\n",
       "       43., 27., 33., 28., 48., 35., 31., 42., 29., 36., 29., 31., 43.,\n",
       "       41., 31., 31., 28., 35., 38., 40., 39., 38., 27., 49., 38., 43.,\n",
       "       36., 37., 46., 22., 47., 47., 30., 51., 28., 50., 43., 46., 29.,\n",
       "       26., 45., 39., 30., 41., 25., 34., 44., 25., 39., 26., 31., 40.,\n",
       "       42., 23., 34., 28., 29., 29., 24., 53., 39., 28., 38., 39., 38.,\n",
       "       34., 31., 40., 32., 35., 29., 44., 48., 41., 28., 29., 24., 25.,\n",
       "       43., 45., 35., 34., 29., 32., 27., 39., 37., 31., 28., 27., 31.,\n",
       "       31., 32., 29., 31., 32., 39., 27., 29., 31., 41., 30., 35., 38.,\n",
       "       29., 37., 26., 27., 42., 45., 51., 36., 48., 45., 47., 26., 35.,\n",
       "       50., 30., 49., 36., 24., 42., 28., 52., 39., 40., 29., 40., 27.,\n",
       "       24., 26., 40., 50., 30., 26., 35., 37., 52., 24., 28., 29., 35.,\n",
       "       54., 32., 32., 36., 31., 28., 34., 53., 50., 52., 30., 26., 42.,\n",
       "       27., 41., 27., 32., 37., 29., 27., 50., 21., 41., 23., 45., 45.,\n",
       "       33., 21., 40., 40., 56., 26., 29., 29., 39., 27., 25., 36., 35.,\n",
       "       25., 21., 23., 32., 34., 38., 39., 46., 35., 33., 30., 54., 42.,\n",
       "       28., 35., 41., 41., 53., 28., 35., 42., 33., 27., 48., 33., 37.,\n",
       "       31., 35., 48., 34., 23., 41., 52., 39., 46., 33., 34., 34., 40.,\n",
       "       45., 25., 31., 34., 45., 44., 35., 22., 26., 38., 27., 29., 29.,\n",
       "       22., 47., 27., 24., 52., 26., 40., 33., 30., 39., 24., 27., 38.,\n",
       "       36., 39., 43., 24., 21., 26., 43., 36., 43., 35., 34., 47., 48.,\n",
       "       29., 36., 35., 39., 41., 29., 39., 33., 33., 39., 40., 53., 34.,\n",
       "       29., 30., 38., 25., 26., 25., 29., 28., 48., 26., 36., 30., 41.,\n",
       "       34., 25., 45., 22., 32., 21., 34., 31., 33., 40., 36., 30., 35.,\n",
       "       36., 37., 32., 45., 27., 41., 32., 48., 50., 45., 33., 33., 27.,\n",
       "       36., 30., 28., 21., 23., 23., 26., 31., 38., 29., 32., 32., 41.,\n",
       "       27., 28., 25., 32., 52.])"
      ]
     },
     "execution_count": 11,
     "metadata": {},
     "output_type": "execute_result"
    }
   ],
   "source": [
    "# [first row, 2nd column]\n",
    "df.values[:, 1]\n",
    "\n",
    "# [first row, 1st column]\n",
    "df.values[:, 0]"
   ]
  },
  {
   "cell_type": "markdown",
   "id": "e29d7ea8",
   "metadata": {},
   "source": [
    "# Normalization"
   ]
  },
  {
   "cell_type": "code",
   "execution_count": 12,
   "id": "9c2c0d96",
   "metadata": {},
   "outputs": [],
   "source": [
    "# Normalization is a statistical method that helps mathematical-based algorithms to interpret features with different\n",
    "# magnitudes and distributions equally. We use StandardScaler() to normalize our dataset, uniform scaling of data from 0\n",
    "# This is a part of pre processing the data before we use it "
   ]
  },
  {
   "cell_type": "code",
   "execution_count": 13,
   "id": "dab4288e",
   "metadata": {},
   "outputs": [],
   "source": [
    "# Below I have normalized a set of columns by initially converting them into a numpy array\n",
    "# U can also do that with individual columns"
   ]
  },
  {
   "cell_type": "code",
   "execution_count": 15,
   "id": "f5649027",
   "metadata": {},
   "outputs": [
    {
     "data": {
      "text/plain": [
       "array([[ 0.74291541, -0.71845859],\n",
       "       [ 1.48949049,  1.38432469],\n",
       "       [-0.25251804,  0.26803233],\n",
       "       ...,\n",
       "       [-1.24795149, -0.74441888],\n",
       "       [-0.37694723, -0.484816  ],\n",
       "       [ 2.1116364 ,  0.44975434]])"
      ]
     },
     "execution_count": 15,
     "metadata": {},
     "output_type": "execute_result"
    }
   ],
   "source": [
    "from sklearn.preprocessing import StandardScaler\n",
    "X1 = df.loc[:, ['Age', 'Income']].values # X is numpy array\n",
    "#X = np.nan_to_num(X)\n",
    "X = StandardScaler().fit_transform(X1)\n",
    "X # this also is a numpy array\n"
   ]
  },
  {
   "cell_type": "markdown",
   "id": "1a928a1d",
   "metadata": {},
   "source": [
    "# Modelling"
   ]
  },
  {
   "cell_type": "code",
   "execution_count": 16,
   "id": "d0fcc9e5",
   "metadata": {},
   "outputs": [],
   "source": [
    "# finding the correct K value by elbow method, plotting sum of squares against value of k \n",
    "sse = []\n",
    "for k in range(1, 11):\n",
    "    kmeans = KMeans(n_clusters=k, init='k-means++')\n",
    "    kmeans.fit(X)\n",
    "    # can : kmeans.fit(df[['column1', 'column2']]) if u have normalized columns individually\n",
    "    sse.append(kmeans.inertia_) # kmeans has a parameter iniertia that gives u SSE\n",
    "    # u just add the sse to the list created above for each value of K ie cluster\n",
    "    # K will keep increasing by each iteration"
   ]
  },
  {
   "cell_type": "code",
   "execution_count": 17,
   "id": "c6b89c64",
   "metadata": {},
   "outputs": [
    {
     "data": {
      "text/plain": [
       "[1699.9999999999993,\n",
       " 912.1690476340115,\n",
       " 574.924286801845,\n",
       " 430.3218516455826,\n",
       " 319.1235575676307,\n",
       " 270.88857762113264,\n",
       " 229.82581148508683,\n",
       " 200.44862969869476,\n",
       " 177.15026174038576,\n",
       " 155.31095523388706]"
      ]
     },
     "execution_count": 17,
     "metadata": {},
     "output_type": "execute_result"
    }
   ],
   "source": [
    "sse"
   ]
  },
  {
   "cell_type": "code",
   "execution_count": 19,
   "id": "314e8c85",
   "metadata": {
    "scrolled": false
   },
   "outputs": [
    {
     "data": {
      "text/plain": [
       "<function matplotlib.pyplot.show(close=None, block=None)>"
      ]
     },
     "execution_count": 19,
     "metadata": {},
     "output_type": "execute_result"
    },
    {
     "data": {
      "image/png": "[encoded data removed]",
      "text/plain": [
       "<Figure size 864x432 with 1 Axes>"
      ]
     },
     "metadata": {
      "needs_background": "light"
     },
     "output_type": "display_data"
    }
   ],
   "source": [
    "plt.figure(figsize = (12,6))\n",
    "plt.grid()\n",
    "plt.plot(range(1,11), sse, linewidth = 2, color = 'red', marker = '8')\n",
    "plt.xlabel('K value')\n",
    "plt.ylabel('SSE')\n",
    "plt.show"
   ]
  },
  {
   "cell_type": "code",
   "execution_count": 25,
   "id": "aa5a736f",
   "metadata": {
    "scrolled": false
   },
   "outputs": [
    {
     "name": "stdout",
     "output_type": "stream",
     "text": [
      "[0 0 1 1 2 0 0 0 1 2 0 1 1 0 1 1 1 0 0 1 1 0 1 0 2 0 1 0 0 1 0 0 1 0 1 1 1\n",
      " 1 1 2 1 2 1 2 0 0 1 1 1 1 0 1 1 0 1 1 1 1 0 0 0 1 0 0 1 1 0 1 0 1 1 0 1 1\n",
      " 1 1 0 1 2 0 1 1 2 0 0 1 1 1 1 1 0 1 1 1 1 0 0 0 1 1 1 2 0 0 1 0 0 1 1 0 0\n",
      " 1 1 1 1 0 1 1 1 1 1 1 1 0 1 0 1 1 1 1 1 0 1 1 1 1 0 1 0 0 0 1 1 1 0 1 0 0\n",
      " 1 1 1 0 0 0 0 1 2 0 1 1 1 0 0 1 1 1 1 1 1 0 0 1 1 1 1 0 0 1 1 0 0 1 1 2 0\n",
      " 1 0 0 0 0 1 0 0 0 0 1 1 0 2 0 2 0 1 0 0 0 1 2 0 1 1 1 0 0 0 1 0 1 0 0 1 2\n",
      " 1 1 1 1 0 1 0 0 0 1 1 1 0 1 0 1 1 1 1 0 1 1 0 2 0 0 1 1 1 1 0 1 0 1 0 1 1\n",
      " 1 0 1 1 1 0 0 1 0 0 0 1 1 1 0 0 1 1 0 1 1 1 2 2 1 0 1 0 1 0 0 1 0 1 1 1 1\n",
      " 1 1 1 0 0 0 1 1 1 0 0 1 1 0 1 1 0 1 0 1 1 1 0 0 0 0 0 1 1 1 1 1 0 0 1 2 1\n",
      " 0 0 0 1 0 1 0 0 0 1 0 0 0 1 1 1 1 2 1 1 1 1 0 0 1 1 1 2 1 1 1 0 1 0 2 2 0\n",
      " 1 1 0 0 1 1 1 1 1 1 0 1 1 0 2 1 0 1 1 0 0 1 0 1 1 1 1 2 0 1 1 1 1 1 1 0 0\n",
      " 0 1 0 1 0 1 0 1 0 0 0 0 1 1 0 1 1 0 0 0 0 1 1 0 0 1 1 0 1 1 1 0 0 0 0 1 2\n",
      " 0 1 0 0 0 1 0 1 1 1 2 1 1 1 1 0 0 2 1 0 1 0 0 1 1 0 0 0 0 0 0 1 0 1 1 1 1\n",
      " 0 0 1 0 1 1 0 1 1 1 0 0 0 0 1 1 1 0 1 1 1 0 2 1 1 0 1 0 1 1 1 1 2 0 0 1 1\n",
      " 1 0 0 1 1 1 0 1 1 0 1 1 1 1 2 0 1 1 1 1 0 0 2 0 1 0 0 0 0 0 0 1 0 2 1 2 1\n",
      " 0 2 0 1 1 0 0 1 0 1 1 0 1 0 1 1 2 0 1 1 1 1 1 1 0 0 1 0 0 0 1 1 0 1 0 1 0\n",
      " 0 0 1 1 1 1 0 0 1 1 1 1 1 0 0 1 1 1 1 1 1 1 1 1 0 1 1 1 0 1 1 0 1 0 1 1 0\n",
      " 2 0 1 0 0 2 1 1 0 1 0 1 1 2 1 0 0 2 1 0 1 1 1 2 0 1 1 1 0 0 1 1 1 0 2 1 1\n",
      " 0 1 1 1 0 0 2 1 1 2 1 0 1 1 0 1 1 0 1 0 1 0 0 1 1 0 0 0 1 1 1 0 1 1 1 1 1\n",
      " 1 1 1 1 0 0 0 0 1 1 2 0 1 1 2 0 0 1 1 0 1 1 2 1 0 1 1 0 0 1 0 2 0 0 1 1 1\n",
      " 0 0 1 1 1 0 2 1 1 1 0 1 1 1 1 0 1 1 0 1 0 1 1 0 1 1 0 0 0 0 1 1 1 0 0 0 0\n",
      " 1 0 0 1 0 1 0 0 1 0 1 1 0 0 2 0 1 1 0 1 1 1 1 1 0 1 1 1 0 1 1 0 1 1 1 1 1\n",
      " 1 0 1 1 1 0 0 1 0 1 0 2 0 0 0 1 1 1 0 1 1 1 1 1 1 1 0 1 1 1 0 1 1 1 1 0]\n"
     ]
    }
   ],
   "source": [
    "# u can change the cluster size here, and manipulate the algorithm\n",
    "kmeans = KMeans(n_clusters = 3)\n",
    "label = kmeans.fit_predict(X) \n",
    "# above u can use prdict(df[['coulmn1', 'coulmn2']]) if u have preprocessed individual columns \n",
    "print(label)"
   ]
  },
  {
   "cell_type": "code",
   "execution_count": 26,
   "id": "4a590ab2",
   "metadata": {},
   "outputs": [
    {
     "data": {
      "text/html": [
       "<div>\n",
       "<style scoped>\n",
       "    .dataframe tbody tr th:only-of-type {\n",
       "        vertical-align: middle;\n",
       "    }\n",
       "\n",
       "    .dataframe tbody tr th {\n",
       "        vertical-align: top;\n",
       "    }\n",
       "\n",
       "    .dataframe thead th {\n",
       "        text-align: right;\n",
       "    }\n",
       "</style>\n",
       "<table border=\"1\" class=\"dataframe\">\n",
       "  <thead>\n",
       "    <tr style=\"text-align: right;\">\n",
       "      <th></th>\n",
       "      <th>Age</th>\n",
       "      <th>Income</th>\n",
       "      <th>Card Debt</th>\n",
       "      <th>Other Debt</th>\n",
       "      <th>Cluster</th>\n",
       "    </tr>\n",
       "  </thead>\n",
       "  <tbody>\n",
       "    <tr>\n",
       "      <th>0</th>\n",
       "      <td>41</td>\n",
       "      <td>19</td>\n",
       "      <td>0.124</td>\n",
       "      <td>1.073</td>\n",
       "      <td>0</td>\n",
       "    </tr>\n",
       "    <tr>\n",
       "      <th>1</th>\n",
       "      <td>47</td>\n",
       "      <td>100</td>\n",
       "      <td>4.582</td>\n",
       "      <td>8.218</td>\n",
       "      <td>0</td>\n",
       "    </tr>\n",
       "    <tr>\n",
       "      <th>2</th>\n",
       "      <td>33</td>\n",
       "      <td>57</td>\n",
       "      <td>6.111</td>\n",
       "      <td>5.802</td>\n",
       "      <td>1</td>\n",
       "    </tr>\n",
       "    <tr>\n",
       "      <th>3</th>\n",
       "      <td>29</td>\n",
       "      <td>19</td>\n",
       "      <td>0.681</td>\n",
       "      <td>0.516</td>\n",
       "      <td>1</td>\n",
       "    </tr>\n",
       "    <tr>\n",
       "      <th>4</th>\n",
       "      <td>47</td>\n",
       "      <td>253</td>\n",
       "      <td>9.308</td>\n",
       "      <td>8.908</td>\n",
       "      <td>2</td>\n",
       "    </tr>\n",
       "  </tbody>\n",
       "</table>\n",
       "</div>"
      ],
      "text/plain": [
       "   Age  Income  Card Debt  Other Debt  Cluster\n",
       "0   41      19      0.124       1.073        0\n",
       "1   47     100      4.582       8.218        0\n",
       "2   33      57      6.111       5.802        1\n",
       "3   29      19      0.681       0.516        1\n",
       "4   47     253      9.308       8.908        2"
      ]
     },
     "execution_count": 26,
     "metadata": {},
     "output_type": "execute_result"
    }
   ],
   "source": [
    "# way of appending the dataframe where we add a new column to clusters\n",
    "df['Cluster'] = label\n",
    "df.head(5)"
   ]
  },
  {
   "cell_type": "code",
   "execution_count": 27,
   "id": "345b0de0",
   "metadata": {},
   "outputs": [
    {
     "data": {
      "text/html": [
       "<div>\n",
       "<style scoped>\n",
       "    .dataframe tbody tr th:only-of-type {\n",
       "        vertical-align: middle;\n",
       "    }\n",
       "\n",
       "    .dataframe tbody tr th {\n",
       "        vertical-align: top;\n",
       "    }\n",
       "\n",
       "    .dataframe thead th {\n",
       "        text-align: right;\n",
       "    }\n",
       "</style>\n",
       "<table border=\"1\" class=\"dataframe\">\n",
       "  <thead>\n",
       "    <tr style=\"text-align: right;\">\n",
       "      <th></th>\n",
       "      <th>Age</th>\n",
       "      <th>Income</th>\n",
       "      <th>Card Debt</th>\n",
       "      <th>Other Debt</th>\n",
       "    </tr>\n",
       "    <tr>\n",
       "      <th>Cluster</th>\n",
       "      <th></th>\n",
       "      <th></th>\n",
       "      <th></th>\n",
       "      <th></th>\n",
       "    </tr>\n",
       "  </thead>\n",
       "  <tbody>\n",
       "    <tr>\n",
       "      <th>0</th>\n",
       "      <td>42.027273</td>\n",
       "      <td>51.796970</td>\n",
       "      <td>1.776230</td>\n",
       "      <td>3.434306</td>\n",
       "    </tr>\n",
       "    <tr>\n",
       "      <th>1</th>\n",
       "      <td>29.034115</td>\n",
       "      <td>30.628998</td>\n",
       "      <td>1.075277</td>\n",
       "      <td>2.146614</td>\n",
       "    </tr>\n",
       "    <tr>\n",
       "      <th>2</th>\n",
       "      <td>44.882353</td>\n",
       "      <td>161.098039</td>\n",
       "      <td>4.898745</td>\n",
       "      <td>9.350471</td>\n",
       "    </tr>\n",
       "  </tbody>\n",
       "</table>\n",
       "</div>"
      ],
      "text/plain": [
       "               Age      Income  Card Debt  Other Debt\n",
       "Cluster                                              \n",
       "0        42.027273   51.796970   1.776230    3.434306\n",
       "1        29.034115   30.628998   1.075277    2.146614\n",
       "2        44.882353  161.098039   4.898745    9.350471"
      ]
     },
     "execution_count": 27,
     "metadata": {},
     "output_type": "execute_result"
    }
   ],
   "source": [
    "df.groupby('Cluster').mean()"
   ]
  },
  {
   "cell_type": "code",
   "execution_count": 28,
   "id": "452a8cd4",
   "metadata": {
    "scrolled": true
   },
   "outputs": [
    {
     "name": "stdout",
     "output_type": "stream",
     "text": [
      "[[ 0.87073811  0.13296017]\n",
      " [-0.74598985 -0.41656646]\n",
      " [ 1.2259934   2.97044735]]\n"
     ]
    }
   ],
   "source": [
    "# printing the centroids of the cluster\n",
    "print(kmeans.cluster_centers_)"
   ]
  },
  {
   "cell_type": "markdown",
   "id": "c32b9725",
   "metadata": {},
   "source": [
    "# Look at the clusters"
   ]
  },
  {
   "cell_type": "markdown",
   "id": "6577cca5",
   "metadata": {},
   "source": [
    "Now, lets look at the distribution of customers based on their age and income:\n"
   ]
  },
  {
   "cell_type": "code",
   "execution_count": 29,
   "id": "2c8cef5d",
   "metadata": {},
   "outputs": [
    {
     "data": {
      "text/plain": [
       "<function matplotlib.pyplot.show(close=None, block=None)>"
      ]
     },
     "execution_count": 29,
     "metadata": {},
     "output_type": "execute_result"
    },
    {
     "data": {
      "image/png": "[encoded data removed]",
      "text/plain": [
       "<Figure size 1080x720 with 1 Axes>"
      ]
     },
     "metadata": {
      "needs_background": "light"
     },
     "output_type": "display_data"
    }
   ],
   "source": [
    "plt.figure(figsize = (15,10))\n",
    "\n",
    "plt.scatter(X[:, 0], X[:, 1], c = kmeans.labels_, cmap = 'rainbow', s = 20)\n",
    "plt.scatter(kmeans.cluster_centers_[:, 0], kmeans.cluster_centers_[:, 1], color = 'black')\n",
    "plt.title('Clusters of Customers')\n",
    "plt.xlabel('Age')\n",
    "plt.ylabel('Income')\n",
    "plt.show"
   ]
  },
  {
   "cell_type": "code",
   "execution_count": null,
   "id": "54ea8af7",
   "metadata": {},
   "outputs": [],
   "source": []
  },
  {
   "cell_type": "code",
   "execution_count": null,
   "id": "4234637d",
   "metadata": {},
   "outputs": [],
   "source": []
  }
 ],
 "metadata": {
  "kernelspec": {
   "display_name": "Python 3.9.2 64-bit",
   "language": "python",
   "name": "python3"
  },
  "language_info": {
   "codemirror_mode": {
    "name": "ipython",
    "version": 3
   },
   "file_extension": ".py",
   "mimetype": "text/x-python",
   "name": "python",
   "nbconvert_exporter": "python",
   "pygments_lexer": "ipython3",
   "version": "3.9.2"
  },
  "vscode": {
   "interpreter": {
    "hash": "d816a64555e2e6c17bf4c4f5776e26edc6eefc166129356d4718ae49e1c8c667"
   }
  }
 },
 "nbformat": 4,
 "nbformat_minor": 5
}
